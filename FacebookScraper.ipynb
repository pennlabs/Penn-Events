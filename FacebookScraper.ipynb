{
 "cells": [
  {
   "cell_type": "code",
   "execution_count": 56,
   "metadata": {},
   "outputs": [],
   "source": [
    "import requests\n",
    "from bs4 import BeautifulSoup\n",
    "from secrets import username, password\n",
    "\n",
    "class FaceBookBot():\n",
    "    login_basic_url = 'https://mbasic.facebook.com/login'\n",
    "    login_mobile_url = 'https://m.facebook.com/login'\n",
    "    payload = {\n",
    "            'email': username,\n",
    "            'pass': password\n",
    "        }\n",
    "    post_ID = \"\"\n",
    "\n",
    "    def parse_html(self, request_url):\n",
    "        with requests.Session() as session:\n",
    "            post = session.post(self.login_basic_url, data=self.payload)\n",
    "            parsed_html = session.get(request_url)\n",
    "        return parsed_html\n",
    "\n",
    "    def post_content(self):\n",
    "        REQUEST_URL = f'https://mbasic.facebook.com/story.php?story_fbid={self.post_ID}&id=415518858611168'\n",
    "        \n",
    "        soup = BeautifulSoup(self.parse_html(REQUEST_URL).content, \"html.parser\")\n",
    "        content = soup.find_all('p')\n",
    "        post_content = []\n",
    "        for lines in content:\n",
    "            post_content.append(lines.text)\n",
    "        \n",
    "        post_content = ' '.join(post_content)    \n",
    "        return post_content\n",
    "\n",
    "    def date_posted(self):\n",
    "        REQUEST_URL = f'https://mbasic.facebook.com/story.php?story_fbid={self.post_ID}&id=415518858611168'\n",
    "        \n",
    "        soup = BeautifulSoup(self.parse_html(REQUEST_URL).content, \"html.parser\")\n",
    "        date_posted = soup.find('abbr')\n",
    "        return date_posted.text\n",
    "\n",
    "    def post_likes(self):\n",
    "        limit = 200\n",
    "        REQUEST_URL = f'https://mbasic.facebook.com/ufi/reaction/profile/browser/fetch/?limit={limit}&total_count=17&ft_ent_identifier={self.post_ID}'\n",
    "\n",
    "        soup = BeautifulSoup(self.parse_html(REQUEST_URL).content, \"html.parser\")\n",
    "        names = soup.find_all('h3')\n",
    "        people_who_liked = []\n",
    "        for name in names:\n",
    "            people_who_liked.append(name.text)\n",
    "        people_who_liked = [i for i in people_who_liked if i] \n",
    "        return people_who_liked\n",
    "\n",
    "    def post_shares(self):        \n",
    "        REQUEST_URL = f'https://m.facebook.com/browse/shares?id={self.post_ID}'\n",
    "        \n",
    "        with requests.Session() as session:\n",
    "            post = session.post(self.login_mobile_url, data=self.payload)\n",
    "            parsed_html = session.get(REQUEST_URL)\n",
    "        \n",
    "        soup = BeautifulSoup(parsed_html.content, \"html.parser\")\n",
    "        names = soup.find_all('span')\n",
    "        people_who_shared = []\n",
    "        for name in names:\n",
    "            people_who_shared.append(name.text)\n",
    "        return people_who_shared\n",
    "    \n",
    "    def get_event(self, event_ID):\n",
    "        REQUEST_URL = f'https://m.facebook.com/events/{event_ID}'\n",
    "        \n",
    "        soup = BeautifulSoup(self.parse_html(REQUEST_URL).content, \"html.parser\")\n",
    "        output = {}\n",
    "        title = soup.find('h1', class_='by')\n",
    "        output['title'] = title.get_text()\n",
    "#         time_location = soup.find_all('table', class_='_4g33')\n",
    "        \n",
    "        time_location = soup.find_all('div', class_='cq cr x')\n",
    "        output['time'] = time_location[0].get_text()\n",
    "        location = soup.find_all('div', class_='cs ct x')[1]\n",
    "        output['location'] = time_location[1].get_text() + ': ' + location.get_text()\n",
    "        description = soup.find('div', class_='_52ja _2pi9 _2pip _2s23')\n",
    "        output['description'] = description.get_text()\n",
    "        responses = soup.find_all('a', class_='_2058')\n",
    "        output['going'] = responses[0].get_text()\n",
    "        output['interested'] = responses[1].get_text()\n",
    "        shares = soup.find_all('div', class_='_2058')[1]\n",
    "        output['shares'] = shares.get_text()\n",
    "        return output"
   ]
  },
  {
   "cell_type": "code",
   "execution_count": 57,
   "metadata": {
    "scrolled": true
   },
   "outputs": [
    {
     "name": "stdout",
     "output_type": "stream",
     "text": [
      "{'title': 'Pan-Asian Presents: Dreamscape', 'time': 'Friday, April 9, 2021 at 9:00 PM – 11:00 PM EDT', 'location': 'Online Event: https://www.youtube.com/watch?v=J_-2Zoo_cNg&ab_channel=Pan-AsianDanceTroupe', 'description': 'Pan-Asian Dance Troupe presents our 20th Annual Show, Dreamscape.  Where do our dreams take us when we fall asleep? Follow Pan-Asian as we explore the mystifying landscape of our subconscious imagination.  FRIDAY, APRIL 9TH, 9PM EDT LIVE ON YOUTUBE: https://youtu.be/J_-2Zoo_cNg  Check out https://www.panasiandance.com/dreamscape21 for more info!  ______________________________________________________ <---AD SUBMISSIONS CLOSED---> Want to support your favorite PADT member? Submit an ad for your friends!  Size/Price Info: · Full-Page (5½” x 8½”) : $15 · Half-Page (5½” x 4¼”) : $10 · Quarter-Page (2¾” x 4¼”) : $5 · Shoutouts (100 characters): $2 Please submit an electronic version of the ad either in PDF or .jpg form with the name “To_[name]_From_[name]_[SIZE].” to panasianmusic@gmail.com.  Please submit shoutouts in the following form: https://forms.gle/tYS9yufTvCFjEa6N8 Cash, check, or Venmo payment is due at the time the ad is placed. Please make checks payable to “Pan-Asian Dance Troupe” and Venmo payments to Pan-Asian Dance Troupe (@panasiandancetroupe). The deadline for all ads, shoutouts, and payments is Thursday, April 1st, by midnight.', 'going': '173', 'interested': '290', 'shares': '5'}\n"
     ]
    }
   ],
   "source": [
    "bot = FaceBookBot()\n",
    "event_ID = 2842763029277309\n",
    "print(bot.get_event(event_ID))"
   ]
  }
 ],
 "metadata": {
  "kernelspec": {
   "display_name": "Python 3",
   "language": "python",
   "name": "python3"
  },
  "language_info": {
   "codemirror_mode": {
    "name": "ipython",
    "version": 3
   },
   "file_extension": ".py",
   "mimetype": "text/x-python",
   "name": "python",
   "nbconvert_exporter": "python",
   "pygments_lexer": "ipython3",
   "version": "3.8.5"
  }
 },
 "nbformat": 4,
 "nbformat_minor": 4
}
